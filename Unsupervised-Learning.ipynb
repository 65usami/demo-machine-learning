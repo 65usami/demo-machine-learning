{
 "cells": [
  {
   "cell_type": "code",
   "execution_count": 1,
   "metadata": {},
   "outputs": [],
   "source": [
    "import numpy as np\n",
    "import matplotlib\n",
    "import matplotlib.pyplot as plt\n",
    "import pandas as pd\n",
    "from sklearn.cluster import KMeans\n",
    "from sklearn.preprocessing import MinMaxScaler\n",
    "\n",
    "%matplotlib inline"
   ]
  },
  {
   "cell_type": "code",
   "execution_count": 2,
   "metadata": {},
   "outputs": [
    {
     "data": {
      "text/html": [
       "<div>\n",
       "<style scoped>\n",
       "    .dataframe tbody tr th:only-of-type {\n",
       "        vertical-align: middle;\n",
       "    }\n",
       "\n",
       "    .dataframe tbody tr th {\n",
       "        vertical-align: top;\n",
       "    }\n",
       "\n",
       "    .dataframe thead th {\n",
       "        text-align: right;\n",
       "    }\n",
       "</style>\n",
       "<table border=\"1\" class=\"dataframe\">\n",
       "  <thead>\n",
       "    <tr style=\"text-align: right;\">\n",
       "      <th></th>\n",
       "      <th>球団</th>\n",
       "      <th>推定年俸</th>\n",
       "      <th>守備</th>\n",
       "      <th>年数</th>\n",
       "      <th>年齢</th>\n",
       "      <th>身長</th>\n",
       "      <th>体重</th>\n",
       "      <th>血液型</th>\n",
       "      <th>投打</th>\n",
       "      <th>年</th>\n",
       "      <th>...</th>\n",
       "      <th>併殺打</th>\n",
       "      <th>出塁率</th>\n",
       "      <th>長打率</th>\n",
       "      <th>OPS</th>\n",
       "      <th>RC27</th>\n",
       "      <th>XR27</th>\n",
       "      <th>球団勝率</th>\n",
       "      <th>プレーオフ</th>\n",
       "      <th>球団平均得点</th>\n",
       "      <th>球団打率</th>\n",
       "    </tr>\n",
       "  </thead>\n",
       "  <tbody>\n",
       "    <tr>\n",
       "      <th>0</th>\n",
       "      <td>c</td>\n",
       "      <td>21000</td>\n",
       "      <td>外野手</td>\n",
       "      <td>11</td>\n",
       "      <td>29</td>\n",
       "      <td>177</td>\n",
       "      <td>90</td>\n",
       "      <td>AB型</td>\n",
       "      <td>右左</td>\n",
       "      <td>2017</td>\n",
       "      <td>...</td>\n",
       "      <td>6</td>\n",
       "      <td>0.398</td>\n",
       "      <td>0.505</td>\n",
       "      <td>0.903</td>\n",
       "      <td>7.70</td>\n",
       "      <td>7.52</td>\n",
       "      <td>0.633</td>\n",
       "      <td>2</td>\n",
       "      <td>5.15</td>\n",
       "      <td>0.273</td>\n",
       "    </tr>\n",
       "    <tr>\n",
       "      <th>1</th>\n",
       "      <td>c</td>\n",
       "      <td>19000</td>\n",
       "      <td>内野手</td>\n",
       "      <td>7</td>\n",
       "      <td>28</td>\n",
       "      <td>171</td>\n",
       "      <td>72</td>\n",
       "      <td>A型</td>\n",
       "      <td>右右</td>\n",
       "      <td>2017</td>\n",
       "      <td>...</td>\n",
       "      <td>9</td>\n",
       "      <td>0.311</td>\n",
       "      <td>0.405</td>\n",
       "      <td>0.716</td>\n",
       "      <td>4.10</td>\n",
       "      <td>4.01</td>\n",
       "      <td>0.633</td>\n",
       "      <td>2</td>\n",
       "      <td>5.15</td>\n",
       "      <td>0.273</td>\n",
       "    </tr>\n",
       "    <tr>\n",
       "      <th>2</th>\n",
       "      <td>c</td>\n",
       "      <td>14000</td>\n",
       "      <td>内野手</td>\n",
       "      <td>5</td>\n",
       "      <td>29</td>\n",
       "      <td>171</td>\n",
       "      <td>85</td>\n",
       "      <td>A型</td>\n",
       "      <td>右左</td>\n",
       "      <td>2017</td>\n",
       "      <td>...</td>\n",
       "      <td>5</td>\n",
       "      <td>0.398</td>\n",
       "      <td>0.407</td>\n",
       "      <td>0.805</td>\n",
       "      <td>6.41</td>\n",
       "      <td>6.26</td>\n",
       "      <td>0.633</td>\n",
       "      <td>2</td>\n",
       "      <td>5.15</td>\n",
       "      <td>0.273</td>\n",
       "    </tr>\n",
       "    <tr>\n",
       "      <th>3</th>\n",
       "      <td>c</td>\n",
       "      <td>11500</td>\n",
       "      <td>内野手</td>\n",
       "      <td>7</td>\n",
       "      <td>38</td>\n",
       "      <td>196</td>\n",
       "      <td>126</td>\n",
       "      <td>不明</td>\n",
       "      <td>右右</td>\n",
       "      <td>2017</td>\n",
       "      <td>...</td>\n",
       "      <td>8</td>\n",
       "      <td>0.368</td>\n",
       "      <td>0.532</td>\n",
       "      <td>0.900</td>\n",
       "      <td>6.80</td>\n",
       "      <td>6.90</td>\n",
       "      <td>0.633</td>\n",
       "      <td>2</td>\n",
       "      <td>5.15</td>\n",
       "      <td>0.273</td>\n",
       "    </tr>\n",
       "    <tr>\n",
       "      <th>4</th>\n",
       "      <td>c</td>\n",
       "      <td>11000</td>\n",
       "      <td>内野手</td>\n",
       "      <td>20</td>\n",
       "      <td>41</td>\n",
       "      <td>189</td>\n",
       "      <td>102</td>\n",
       "      <td>B型</td>\n",
       "      <td>右右</td>\n",
       "      <td>2017</td>\n",
       "      <td>...</td>\n",
       "      <td>7</td>\n",
       "      <td>0.389</td>\n",
       "      <td>0.461</td>\n",
       "      <td>0.850</td>\n",
       "      <td>6.55</td>\n",
       "      <td>6.54</td>\n",
       "      <td>0.633</td>\n",
       "      <td>2</td>\n",
       "      <td>5.15</td>\n",
       "      <td>0.273</td>\n",
       "    </tr>\n",
       "  </tbody>\n",
       "</table>\n",
       "<p>5 rows × 32 columns</p>\n",
       "</div>"
      ],
      "text/plain": [
       "  球団   推定年俸   守備  年数  年齢   身長   体重  血液型  投打     年  ...  併殺打    出塁率    長打率  \\\n",
       "0  c  21000  外野手  11  29  177   90  AB型  右左  2017  ...    6  0.398  0.505   \n",
       "1  c  19000  内野手   7  28  171   72   A型  右右  2017  ...    9  0.311  0.405   \n",
       "2  c  14000  内野手   5  29  171   85   A型  右左  2017  ...    5  0.398  0.407   \n",
       "3  c  11500  内野手   7  38  196  126   不明  右右  2017  ...    8  0.368  0.532   \n",
       "4  c  11000  内野手  20  41  189  102   B型  右右  2017  ...    7  0.389  0.461   \n",
       "\n",
       "     OPS  RC27  XR27   球団勝率  プレーオフ  球団平均得点   球団打率  \n",
       "0  0.903  7.70  7.52  0.633      2    5.15  0.273  \n",
       "1  0.716  4.10  4.01  0.633      2    5.15  0.273  \n",
       "2  0.805  6.41  6.26  0.633      2    5.15  0.273  \n",
       "3  0.900  6.80  6.90  0.633      2    5.15  0.273  \n",
       "4  0.850  6.55  6.54  0.633      2    5.15  0.273  \n",
       "\n",
       "[5 rows x 32 columns]"
      ]
     },
     "execution_count": 2,
     "metadata": {},
     "output_type": "execute_result"
    }
   ],
   "source": [
    "baseball_salary_data = pd.read_csv(\"data/baseball_salary.csv\")\n",
    "baseball_salary_data.head()"
   ]
  },
  {
   "cell_type": "code",
   "execution_count": 5,
   "metadata": {},
   "outputs": [],
   "source": [
    "#対象データ抽出\n",
    "\n",
    "dataset = baseball_salary_data.loc[:, ['打率', '打点']]"
   ]
  },
  {
   "cell_type": "code",
   "execution_count": 9,
   "metadata": {},
   "outputs": [],
   "source": [
    "#正規化\n",
    "\n",
    "## 型違いにるWarning対応\n",
    "dataset = dataset.astype({'打点': 'float64'})\n",
    "\n",
    "scaler = MinMaxScaler()\n",
    "scaler.fit(dataset)\n",
    "min_max_n_dataset = scaler.transform(dataset)"
   ]
  },
  {
   "cell_type": "code",
   "execution_count": 8,
   "metadata": {},
   "outputs": [
    {
     "data": {
      "image/png": "[encoded data removed]",
      "text/plain": [
       "<Figure size 432x288 with 1 Axes>"
      ]
     },
     "metadata": {
      "needs_background": "light"
     },
     "output_type": "display_data"
    }
   ],
   "source": [
    "#正規化後グラフ確認\n",
    "\n",
    "bat_avg_data = min_max_n_dataset[:,0]\n",
    "rbi_data = min_max_n_dataset[:,1]\n",
    "\n",
    "fig = plt.figure()\n",
    "plt.plot(bat_avg_data, rbi_data, '.', label=\"Bat_avg vs RBI\")\n",
    "plt.legend()\n",
    "plt.xlabel(\"Bat avg\")\n",
    "plt.ylabel(\"RBI\")\n",
    "plt.show()"
   ]
  },
  {
   "cell_type": "code",
   "execution_count": 10,
   "metadata": {},
   "outputs": [
    {
     "data": {
      "image/png": "[encoded data removed]",
      "text/plain": [
       "<Figure size 432x288 with 1 Axes>"
      ]
     },
     "metadata": {
      "needs_background": "light"
     },
     "output_type": "display_data"
    }
   ],
   "source": [
    "# 最適WCSS値算出\n",
    "\n",
    "wcss = []\n",
    "n_comps = np.arange(1, 30)\n",
    "for k in n_comps:\n",
    "    km = KMeans(n_clusters=k, init='k-means++', n_init=10)\n",
    "    km.fit(min_max_n_dataset)\n",
    "    wcss.append(km.inertia_)\n",
    "\n",
    "fig = plt.figure()\n",
    "plt.plot(n_comps, wcss)\n",
    "plt.xlabel(\"Clusters\")\n",
    "plt.ylabel(\"WCSS\")\n",
    "plt.show()"
   ]
  },
  {
   "cell_type": "code",
   "execution_count": 11,
   "metadata": {},
   "outputs": [
    {
     "data": {
      "image/png": "[encoded data removed]",
      "text/plain": [
       "<Figure size 432x288 with 1 Axes>"
      ]
     },
     "metadata": {
      "needs_background": "light"
     },
     "output_type": "display_data"
    }
   ],
   "source": [
    "# クラスタリング\n",
    "\n",
    "n_clusters = 6\n",
    "colors = ['dodgerblue', 'orange', 'green', 'tomato', 'blueviolet', 'cornflowerblue']\n",
    "\n",
    "km = KMeans(n_clusters=n_clusters, init='k-means++', n_init=10)\n",
    "km.fit(min_max_n_dataset)\n",
    "labels = km.predict(min_max_n_dataset)\n",
    "\n",
    "for i, lab in enumerate(sorted(set(labels))):\n",
    "    group = (labels == lab)\n",
    "    plt.plot(min_max_n_dataset[group,0], min_max_n_dataset[group,1], '.', label=f\"{colors[i]}\", color=colors[i])\n",
    "    plt.legend()\n",
    "plt.xlabel(\"Bat avg\")\n",
    "plt.ylabel(\"RBI\")\n",
    "plt.show()"
   ]
  },
  {
   "cell_type": "code",
   "execution_count": null,
   "metadata": {},
   "outputs": [],
   "source": []
  }
 ],
 "metadata": {
  "kernelspec": {
   "display_name": "Python 3",
   "language": "python",
   "name": "python3"
  },
  "language_info": {
   "codemirror_mode": {
    "name": "ipython",
    "version": 3
   },
   "file_extension": ".py",
   "mimetype": "text/x-python",
   "name": "python",
   "nbconvert_exporter": "python",
   "pygments_lexer": "ipython3",
   "version": "3.6.8"
  }
 },
 "nbformat": 4,
 "nbformat_minor": 2
}
